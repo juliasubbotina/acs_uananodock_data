{
 "cells": [
  {
   "cell_type": "code",
   "execution_count": 1,
   "id": "aa238ad4",
   "metadata": {},
   "outputs": [
    {
     "data": {
      "application/vnd.jupyter.widget-view+json": {
       "model_id": "b4124bf2118e4f9481382d22808ae6bd",
       "version_major": 2,
       "version_minor": 0
      },
      "text/plain": [
       "A Jupyter Widget"
      ]
     },
     "metadata": {},
     "output_type": "display_data"
    }
   ],
   "source": [
    "import os, sys\n",
    "import math\n",
    "import numpy as np\n",
    "import pandas as pd\n",
    "import matplotlib.pyplot as plt\n",
    "from matplotlib import rc,rcParams\n",
    "import matplotlib.font_manager as mfm\n",
    "import matplotlib.patches as patches\n",
    "import scipy as sp\n",
    "import seaborn as sns\n",
    "import nglview as nv\n",
    "import MDAnalysis as mda\n",
    "from MDAnalysis import Universe, Merge, transformations\n",
    "\n",
    "import io\n",
    "import PIL.Image as Image\n",
    "\n",
    "from IPython import display"
   ]
  },
  {
   "cell_type": "code",
   "execution_count": null,
   "id": "ce25d2c3",
   "metadata": {},
   "outputs": [],
   "source": [
    "#rcParams.keys()"
   ]
  },
  {
   "cell_type": "code",
   "execution_count": 2,
   "id": "72000dba",
   "metadata": {},
   "outputs": [
    {
     "name": "stderr",
     "output_type": "stream",
     "text": [
      "/tmp/ipykernel_229908/2459133018.py:1: MatplotlibDeprecationWarning: The seaborn styles shipped by Matplotlib are deprecated since 3.6, as they no longer correspond to the styles shipped by seaborn. However, they will remain available as 'seaborn-v0_8-<style>'. Alternatively, directly use the seaborn API instead.\n",
      "  plt.style.use('seaborn-white')\n"
     ]
    }
   ],
   "source": [
    "plt.style.use('seaborn-white')\n",
    "sns.set(style=\"white\", context=\"paper\") #, palette=\"tab10\")\n",
    "sns.color_palette(\"Set1\", n_colors=8, desat=.5)\n",
    "rc('font', weight='bold')\n",
    "rcParams.update({\n",
    "        \"font.weight\": \"bold\",  # bold fonts\n",
    "        \"xtick.labelsize\": 18, \"ytick.labelsize\": 18,\n",
    "'savefig.transparent': True,\n",
    "    \"xtick.major.size\": 5,\n",
    "    \"xtick.major.pad\": 7,\n",
    "    \"ytick.major.size\": 5,\n",
    "    \"ytick.major.pad\": 7,})"
   ]
  },
  {
   "cell_type": "code",
   "execution_count": 3,
   "id": "5b365f51",
   "metadata": {},
   "outputs": [],
   "source": [
    "wd=os. getcwd() \n",
    "resFolder = wd+\"/res/\"\n",
    "pdbFolder = wd+\"/pdbRot/\"\n",
    "pdbCGfolder = wd+\"/pdbCG/\"\n",
    "npFolder  = wd+\"/nps/coresolidsurfrasp/\"\n",
    "maoFolder = wd+\"/pdbCG/\""
   ]
  },
  {
   "cell_type": "code",
   "execution_count": 4,
   "id": "018c1524",
   "metadata": {},
   "outputs": [],
   "source": [
    "projName=\"psps_5nm\""
   ]
  },
  {
   "cell_type": "code",
   "execution_count": 5,
   "id": "76b0d8b9",
   "metadata": {},
   "outputs": [],
   "source": [
    "#projName=\"pscooh_5nm\""
   ]
  },
  {
   "cell_type": "code",
   "execution_count": 6,
   "id": "1812f5ab",
   "metadata": {},
   "outputs": [],
   "source": [
    "#projName=\"psnh2_5nm\""
   ]
  },
  {
   "cell_type": "code",
   "execution_count": 7,
   "id": "fc47c9e4",
   "metadata": {},
   "outputs": [
    {
     "data": {
      "text/plain": [
       "['1hzh.pdb', '1ao6.pdb', '3ghg.pdb', '3k2s.pdb', '2a73.pdb']"
      ]
     },
     "execution_count": 7,
     "metadata": {},
     "output_type": "execute_result"
    }
   ],
   "source": [
    "pdbs=[]\n",
    "for pr in os.listdir(pdbFolder):\n",
    "    if pr.endswith(\".pdb\"):\n",
    "        if \"HUMAN\" not in pr:\n",
    "            pdbs.append(pr)\n",
    "pdbs"
   ]
  },
  {
   "cell_type": "code",
   "execution_count": 8,
   "id": "87a868d0",
   "metadata": {},
   "outputs": [],
   "source": [
    "pri=-1"
   ]
  },
  {
   "cell_type": "code",
   "execution_count": 9,
   "id": "d5595446",
   "metadata": {},
   "outputs": [
    {
     "data": {
      "text/plain": [
       "('2a73', 'psps_5nm', 'ps')"
      ]
     },
     "execution_count": 9,
     "metadata": {},
     "output_type": "execute_result"
    }
   ],
   "source": [
    "protein=pdbs[pri].rsplit(\".\")[0]\n",
    "ps=projName.split(\"_\")[0][:2]\n",
    "protein, projName, ps"
   ]
  },
  {
   "cell_type": "code",
   "execution_count": 10,
   "id": "6f04a683",
   "metadata": {},
   "outputs": [],
   "source": [
    "labelDic={  \"1hzh\":\"IGH\",\n",
    "            \"1ao6\":\"HSA\",\n",
    "            \"3k2s\":\"APO-AI\",\n",
    "            \"3ghg\":\"FG\",\n",
    "            \"2a73\":\"C3\"}\n",
    "\n",
    "if ps==\"ps\":\n",
    "    title=\"{}@PS NP\".format(labelDic[protein])\n",
    "else:\n",
    "    if ps==\"nh2\":\n",
    "        ps=r\"nh${_2}$\"    \n",
    "    title=\"{}@PS-{}\".format(labelDic[protein], ps.upper())"
   ]
  },
  {
   "cell_type": "markdown",
   "id": "30bf17ee",
   "metadata": {},
   "source": [
    "# Find NP with strongest binding"
   ]
  },
  {
   "cell_type": "code",
   "execution_count": 11,
   "id": "0698c893",
   "metadata": {},
   "outputs": [
    {
     "data": {
      "text/plain": [
       "'_1'"
      ]
     },
     "execution_count": 11,
     "metadata": {},
     "output_type": "execute_result"
    }
   ],
   "source": [
    "searchFolder=resFolder+\"ps_\"+projName.split(\"_\")[0][2:]+\"/\"\n",
    "\n",
    "uamFolders=[]\n",
    "for f in os.listdir(searchFolder):\n",
    "    if f.startswith(\"PS-\") ==True:\n",
    "        uamFolders.append(searchFolder+f+\"/\")\n",
    "\n",
    "def get_lowest(uamLoc=\"\", uam_to_check=\"\"):\n",
    "    \n",
    "    rawData         = np.genfromtxt(uam_to_check)[:,0:4]\n",
    "    phiData         = rawData[:,0]\n",
    "    thetaData       = rawData[:,1]\n",
    "    energy          = rawData[:,2]\n",
    "    #print(rawData)\n",
    "\n",
    "    sinTheta        = np.sin((2.5+thetaData) * np.pi / 180.0)\n",
    "\n",
    "    boltzmanAverage = np.sum(energy * sinTheta * np.exp(-1.0 *  energy)) / np.sum(sinTheta * np.exp(-1.0 * energy))\n",
    "    simpleAverage   = np.sum(sinTheta * energy)/np.sum(sinTheta) # corrected so that it works properly for isotropic proteins and single AAs with E(phi,theta) = E, else we get Esimple =  2E/Pi \n",
    "    index           = np.argmin(energy)\n",
    "    confID = \"_\"+ uamLoc.rsplit(\"_\")[-1].strip(\"/\")\n",
    "    return energy[index], confID\n",
    "\n",
    "eminList=[]\n",
    "confList=[]\n",
    "for uf in uamFolders:\n",
    "    for ui in os.listdir(uf):\n",
    "        if ui.startswith(protein) ==True:\n",
    "            if ui.endswith(\".uam\") ==True:\n",
    "                emin, conf_id = get_lowest(uamLoc=uf, uam_to_check=uf+ui)\n",
    "                eminList.append(float(emin))\n",
    "                confList.append(conf_id)      \n",
    "\n",
    "index_min = np.argmin(eminList)\n",
    "conf_min = confList[index_min]\n",
    "conf_min"
   ]
  },
  {
   "cell_type": "code",
   "execution_count": 12,
   "id": "2c0a505f",
   "metadata": {},
   "outputs": [
    {
     "data": {
      "text/plain": [
       "-9.02818"
      ]
     },
     "execution_count": 12,
     "metadata": {},
     "output_type": "execute_result"
    }
   ],
   "source": [
    "eminList[7]"
   ]
  },
  {
   "cell_type": "markdown",
   "id": "d72b78b7",
   "metadata": {},
   "source": [
    "# Read in UAM files, get all data"
   ]
  },
  {
   "cell_type": "code",
   "execution_count": 13,
   "id": "17cbc82b",
   "metadata": {},
   "outputs": [
    {
     "data": {
      "text/plain": [
       "'/home/ysubbotina/apps/unitedatom/ps_adsorb/res/ps_ps/PS-4.62_PS-rasp-0.38_zp-0.0_1/2a73_4_0.uam'"
      ]
     },
     "execution_count": 13,
     "metadata": {},
     "output_type": "execute_result"
    }
   ],
   "source": [
    "nps=[]\n",
    "for n in os.listdir(npFolder+projName):\n",
    "    if n.endswith(conf_min +\".np\"):\n",
    "        if \"PS\" in n:\n",
    "            nps.append(n)\n",
    "nps[0]\n",
    "\n",
    "resF=nps[0].split(\"_\")[0].split(\"-\")[0].lower()+\"_\"+nps[0].split(\"_\")[1].split(\"-\")[0].lower()\n",
    "\n",
    "if resF==\"ps_coohh\":\n",
    "    resF=\"ps_cooh\"\n",
    "\n",
    "basename=nps[0].rsplit('/')[-1]\n",
    "nanopart=(basename.rsplit('_', 3)[0]).rsplit('_', 3)[0]\n",
    "\n",
    "ii=4\n",
    "npFileName=npFolder+projName+\"/\"+basename\n",
    "\n",
    "uam_dir=resFolder+resF+\"/\"+basename.rsplit(\".\",1)[0]+\"/\"\n",
    "\n",
    "\n",
    "uams=[]\n",
    "for ua in os.listdir(uam_dir):\n",
    "    if ua.endswith(\".uam\"):\n",
    "        if protein in ua:\n",
    "            uams.append(ua)\n",
    "uamIn=uam_dir+uams[0]\n",
    "\n",
    "radii=float(((basename.rsplit('_', 6)[1]).rsplit('_', 1)[0]).rsplit('-', 1)[1])\n",
    "zeta=float(((basename.rsplit('_', 6)[2]).rsplit('_', 1)[0]).rsplit('-', 1)[1])\n",
    "radii_core=float(((basename.rsplit('_', 6)[0]).rsplit('_', 1)[0]).rsplit('-', 1)[1])\n",
    "radii_shell=round(radii_core-radii,2)\n",
    "core=((basename.rsplit('_', 5)[0]).rsplit('_', 1)[0]).rsplit('-', 2)[0]\n",
    "shell=((basename.rsplit('_', 5)[1]).rsplit('_', 1)[0]).rsplit('-', 2)[0]\n",
    "\n",
    "if shell==\"COOHH\":\n",
    "    shell=\"COO\" \n",
    "\n",
    "uamIn"
   ]
  },
  {
   "cell_type": "markdown",
   "id": "3dcbc713",
   "metadata": {},
   "source": [
    "# Read in UAM, plot heatmap and find min conformation"
   ]
  },
  {
   "cell_type": "code",
   "execution_count": 14,
   "id": "02d7ccc1",
   "metadata": {},
   "outputs": [],
   "source": [
    "rawData         = np.genfromtxt(uamIn)\n",
    "phiData         = rawData[:,0]\n",
    "thetaData       = rawData[:,1]\n",
    "energy          = rawData[:,2]\n",
    "sdData          = rawData[:,3]\n",
    "ssdData         = rawData[:,4]\n",
    "sinTheta        = np.sin(thetaData * np.pi / 180.0)\n",
    "boltzmanAverage = np.sum(energy * sinTheta * np.exp(-1.0 *  energy)) / np.sum(sinTheta * np.exp(-1.0 * energy))\n",
    "simpleAverage   = np.mean(sinTheta * energy)\n",
    "index           = np.argmin(energy)\n",
    "delta           = phiData[1] - phiData[0]\n",
    "rows            = int(180. / delta)\n",
    "cols            = int(360. / delta)\n",
    "image           = np.zeros((rows, cols))\n",
    "\n",
    "#Select first lowest conformation\n",
    "conf_id = 0\n",
    "conf_phi = phiData[index]\n",
    "conf_theta = thetaData[index]\n",
    "conf_ssd = ssdData[index]\n",
    "conf_ene = energy[index]"
   ]
  },
  {
   "cell_type": "code",
   "execution_count": 15,
   "id": "afe5b91c",
   "metadata": {},
   "outputs": [
    {
     "name": "stderr",
     "output_type": "stream",
     "text": [
      "/tmp/ipykernel_229908/3599402623.py:9: DeprecationWarning: Please use `gaussian_filter` from the `scipy.ndimage` namespace, the `scipy.ndimage.filters` namespace is deprecated.\n",
      "  image = sp.ndimage.filters.gaussian_filter(image, sigma = [1.0, 1.0], mode = ['constant', 'wrap'])\n"
     ]
    },
    {
     "data": {
      "text/plain": [
       "Text(1.0, 1.0, 'C3@PS NP')"
      ]
     },
     "execution_count": 15,
     "metadata": {},
     "output_type": "execute_result"
    },
    {
     "data": {
      "image/png": "[encoded data removed]",
      "text/plain": [
       "<Figure size 640x480 with 2 Axes>"
      ]
     },
     "metadata": {},
     "output_type": "display_data"
    }
   ],
   "source": [
    "for phi, theta , energy , sd ,ssd, mfpt ,energy_kj, prot_surf_com_dist, omega, n_cont, com_com_min in rawData:\n",
    "    row             = int(theta / delta)\n",
    "    col             = int(phi / delta)\n",
    "    image[row][col] = energy#energy\n",
    "\n",
    "lon = np.linspace(0, 360, cols)\n",
    "lat = np.linspace(0, 180, rows)\n",
    "Lon, Lat = np.meshgrid(lon,lat)\n",
    "image = sp.ndimage.filters.gaussian_filter(image, sigma = [1.0, 1.0], mode = ['constant', 'wrap'])\n",
    "\n",
    "# Plot the data\n",
    "font_path = \"/usr/share/fonts/truetype/freefont/FreeSerif.ttf\"\n",
    "fontsize  = 20\n",
    "clabelpad = 20\n",
    "\n",
    "font      = mfm.FontProperties(fname = font_path, size = fontsize)\n",
    "tickFont      = mfm.FontProperties(fname = font_path, size = 14, weight=\"bold\")\n",
    "xlabel    = r\"$\\phi$\" + u\"\\u00B0\"\n",
    "ylabel    = r\"$\\theta$\" + u\"\\u00B0\"\n",
    "clabel    = r\"k${_B}$T\";\n",
    "\n",
    "vmin=0.0\n",
    "vmax=-10.0\n",
    "\n",
    "fig = plt.figure()\n",
    "ax = fig.add_subplot(111)\n",
    "im = ax.pcolormesh(Lon, Lat, image, cmap = plt.cm.YlOrRd_r)  #plt.cm.binary_r )\n",
    "im.set_clim(vmin=vmin, vmax=vmax)\n",
    "plt.contour(Lon, Lat, image, 2, colors='k')\n",
    "cb = fig.colorbar(im, ax = ax, shrink = 0.5)\n",
    "cb.set_label(clabel, rotation = 270, labelpad = clabelpad, fontproperties = font)\n",
    "ax.set_xlabel(xlabel, fontproperties = font)\n",
    "ax.set_ylabel(ylabel, fontproperties = font)\n",
    "ax.tick_params(tick1On=True)\n",
    "ax.plot(conf_phi, conf_theta, \"gold\", marker='*', markersize=25, markeredgecolor=\"k\", markerfacecolor=\"#007FFF\")\n",
    "ax.set_title(title, fontsize=fontsize, fontweight=\"bold\", loc =\"right\", pad =12)\n",
    "#markersize, markeredgewidth, markeredgecolor, markerfacecolor, markerfacecoloralt"
   ]
  },
  {
   "cell_type": "code",
   "execution_count": 16,
   "id": "7c4cc4d5",
   "metadata": {},
   "outputs": [
    {
     "data": {
      "text/plain": [
       "(340.0, 80.0)"
      ]
     },
     "execution_count": 16,
     "metadata": {},
     "output_type": "execute_result"
    }
   ],
   "source": [
    "conf_phi, conf_theta"
   ]
  },
  {
   "cell_type": "markdown",
   "id": "f8092b0c",
   "metadata": {},
   "source": [
    "# Read in PDB for protein and transform accordinly to orientation data"
   ]
  },
  {
   "cell_type": "code",
   "execution_count": 17,
   "id": "92bcfbd1",
   "metadata": {},
   "outputs": [],
   "source": [
    "# adopted Ian code for rotation\n",
    "def rotatePDB(coords,phi,theta):\n",
    "    rxx = np.cos(theta)*np.cos(phi)\n",
    "    rxy = -1 * np.cos(theta)*np.sin(phi)\n",
    "    rxz = np.sin(theta)\n",
    "    ryx = np.sin(phi)\n",
    "    ryy = np.cos(phi)\n",
    "    ryz = 0\n",
    "    rzx = -1*np.sin(theta)*np.cos(phi)\n",
    "    rzy = np.sin(theta)*np.sin(phi)\n",
    "    rzz = np.cos(theta)\n",
    "    finalCoords = np.zeros_like(coords)\n",
    "    \n",
    "    finalCoords[:,0] = coords[:,0] * rxx + coords[:,1] * rxy + coords[:,2]*rxz \n",
    "    finalCoords[:,1] = coords[:,0] * ryx + coords[:,1] * ryy + coords[:,2]*ryz \n",
    "    finalCoords[:,2] = coords[:,0] * rzx + coords[:,1] * rzy + coords[:,2]*rzz \n",
    "    return finalCoords"
   ]
  },
  {
   "cell_type": "code",
   "execution_count": 18,
   "id": "e1276dc7",
   "metadata": {},
   "outputs": [],
   "source": [
    "def tUACOM():\n",
    "    def wrapped(ts):\n",
    "        ts.positions += np.array(  [ -np.mean(ts.positions[:,0]) ,- np.mean(ts.positions[:,1]), -np.mean(ts.positions[:,2])  ]  )\n",
    "        return ts\n",
    "    return wrapped\n",
    "       \n",
    "def tUARotate(phi,theta):\n",
    "    def wrapped(ts):\n",
    "        ts.positions = rotatePDB(ts.positions,phi,theta)\n",
    "        return ts\n",
    "    return wrapped\n",
    "\n",
    "def tUAZShift(dz):\n",
    "    def wrapped(ts):\n",
    "        ts.positions += np.array( [0.0,0.0,dz - np.amin(ts.positions[:,2])])\n",
    "        return ts\n",
    "    return wrapped"
   ]
  },
  {
   "cell_type": "code",
   "execution_count": 19,
   "id": "b19fb1a6",
   "metadata": {},
   "outputs": [
    {
     "name": "stderr",
     "output_type": "stream",
     "text": [
      "Warning: importing 'simtk.openmm' is deprecated.  Import 'openmm' instead.\n",
      "/home/ysubbotina/anaconda3/lib/python3.9/site-packages/MDAnalysis/topology/PDBParser.py:331: UserWarning: Element information is missing, elements attribute will not be populated. If needed these can be guessed using MDAnalysis.topology.guessers.\n",
      "  warnings.warn(\"Element information is missing, elements attribute \"\n",
      "/home/ysubbotina/anaconda3/lib/python3.9/site-packages/MDAnalysis/topology/PDBParser.py:442: UserWarning: PDB file contained CONECT record to TER entry. These are not included in bonds.\n",
      "  warnings.warn(\n"
     ]
    }
   ],
   "source": [
    "pdb_file=pdbFolder+protein+'.pdb'\n",
    "u_prot = Universe(pdb_file)"
   ]
  },
  {
   "cell_type": "code",
   "execution_count": 22,
   "id": "a10f8f0e",
   "metadata": {},
   "outputs": [],
   "source": [
    "minTheta = conf_theta  + 2.5\n",
    "minPhi = conf_phi + 2.5\n",
    "rot_phi   = -1.0 * minPhi  * (np.pi / 180.0)\n",
    "rot_theta = (180.0 - minTheta) * (np.pi / 180.0)"
   ]
  },
  {
   "cell_type": "code",
   "execution_count": 23,
   "id": "a0902c7c",
   "metadata": {},
   "outputs": [],
   "source": [
    "translateToCOM = tUACOM()\n",
    "applyRotation = tUARotate( rot_phi, rot_theta)\n",
    "translateToSurface = tUAZShift( 10*(radii_core+radii+conf_ssd+0.5) )\n",
    "u_prot.trajectory.add_transformations(*[translateToCOM,applyRotation,translateToSurface])"
   ]
  },
  {
   "cell_type": "code",
   "execution_count": 24,
   "id": "74eaa5ee",
   "metadata": {},
   "outputs": [],
   "source": [
    "#change -add Takis\n",
    "u_rot = mda.Universe.empty(u_prot.atoms.n_atoms,\n",
    "                         n_residues=u_prot.atoms.n_residues,\n",
    "                         atom_resindex=u_prot.atoms.resindices,\n",
    "                         residue_segindex=u_prot.residues.segindices,\n",
    "                         trajectory=True)\n",
    "u_rot.add_TopologyAttr('name', u_prot.atoms.names)\n",
    "u_rot.add_TopologyAttr('type', u_prot.atoms.types)\n",
    "u_rot.add_TopologyAttr('elements', u_prot.atoms.names.astype('<U1'))\n",
    "u_rot.add_TopologyAttr('resname', u_prot.residues.resnames)\n",
    "u_rot.add_TopologyAttr('resid', u_prot.residues.resids)"
   ]
  },
  {
   "cell_type": "markdown",
   "id": "32660bd0",
   "metadata": {},
   "source": [
    "# Combine with NP coordinate"
   ]
  },
  {
   "cell_type": "code",
   "execution_count": 25,
   "id": "e6f63deb",
   "metadata": {},
   "outputs": [],
   "source": [
    "elemDic={\"PS\": \"C\",\n",
    "        \"NH3\": \"N\",\n",
    "        \"NH2\": \"N\",\n",
    "        \"COOH\": \"O\",\n",
    "        \"COO\": \"O\"}\n",
    "typeDic={\"PS\": \"C\",\n",
    "        \"NH3\": \"C\",\n",
    "        \"NH2\": \"C\",\n",
    "        \"COOH\": \"C\",\n",
    "        \"COO\": \"C\"}\n",
    "beadDicRGB={\"PS\": [0.86, 0.86, 0.86],\n",
    "         \"NH3\": [0.0, 0.5, 1.0],\n",
    "        \"NH2\": [0.0, 0.5, 1.0],\n",
    "        \"COOH\": [1.0, 0.13, 0.32],\n",
    "        \"COO\": [1.0, 0.13, 0.32]}\n",
    "beadDicHex={\"PS\": \"#DCDCDC\",\n",
    "        \"NH3\": \"#007FFF\",\n",
    "        \"NH2\": \"#007FFF\",\n",
    "        \"COOH\": \"#FF2052\",\n",
    "        \"COO\": \"#FF2052\"}"
   ]
  },
  {
   "cell_type": "code",
   "execution_count": 26,
   "id": "257db41e",
   "metadata": {},
   "outputs": [
    {
     "name": "stderr",
     "output_type": "stream",
     "text": [
      "/tmp/ipykernel_229908/4251340385.py:1: VisibleDeprecationWarning: Reading unicode strings without specifying the encoding argument is deprecated. Set the encoding, use None for the system default.\n",
      "  rawNP         = np.genfromtxt(npFileName,  delimiter=',' , skip_header=1, dtype=None)\n"
     ]
    }
   ],
   "source": [
    "rawNP         = np.genfromtxt(npFileName,  delimiter=',' , skip_header=1, dtype=None)\n",
    "i=1\n",
    "NPcoordList=[]\n",
    "NPresNameArray=[]\n",
    "NPRad=[]\n",
    "\n",
    "for line in rawNP:\n",
    "    npX, npY, npZ, npR, _, _, _, _, ss, _, _, _ = line\n",
    "    solid=(((str(ss)).rsplit( \"/\" )[2]).rsplit( \".\" ))[0]\n",
    "    NPresNameArray.append([solid.upper(), solid.upper(), int(i)])\n",
    "    NPcoordList.append([float(round(npX,3)*10), float(round(npY,3)*10), float(round(npZ,3)*10)])\n",
    "    NPRad.append([int(i), solid.upper(), float(npR)])\n",
    "    i=i+1\n",
    "NPcoord=np.array(NPcoordList)\n",
    "NPres=np.array(NPresNameArray)#, dtype='<U4')\n",
    "NPRs=np.array(NPRad)"
   ]
  },
  {
   "cell_type": "code",
   "execution_count": 27,
   "id": "a584b07d",
   "metadata": {},
   "outputs": [],
   "source": [
    "nameLst=[]\n",
    "resLst=[]\n",
    "typeLst=[]\n",
    "elemLst=[]\n",
    "coorArr=[]\n",
    "for i, line in enumerate(NPres):\n",
    "    typeLst.append(typeDic[line[0]])\n",
    "    elemLst.append(elemDic[line[0]])\n",
    "    nameLst.append(line[0])\n",
    "    resLst.append(line[1])\n",
    "    coorArr.append(NPcoord[i])\n",
    "n_residues = len(NPres)\n",
    "n_atoms = len(NPres)\n",
    "resindices = np.repeat(range(n_residues), 1)\n",
    "assert len(resindices) == n_atoms\n",
    "segindices = [0] * n_residues\n",
    "u_nano = mda.Universe.empty(n_atoms,\n",
    "                         n_residues=n_residues,\n",
    "                         atom_resindex=resindices,\n",
    "                         residue_segindex=segindices,\n",
    "                         trajectory=True) # necessary for adding coordinates\n",
    "u_nano.add_TopologyAttr('name', nameLst)\n",
    "u_nano.add_TopologyAttr('type', typeLst)\n",
    "u_nano.add_TopologyAttr('elements', elemLst)\n",
    "u_nano.add_TopologyAttr('resname', resLst)\n",
    "u_nano.add_TopologyAttr('resid', list(range(1, n_residues+1)))\n",
    "u_nano.add_TopologyAttr('segid', [\"NP\"])\n",
    "u_nano.atoms.positions = coorArr"
   ]
  },
  {
   "cell_type": "code",
   "execution_count": 28,
   "id": "f16113fe",
   "metadata": {},
   "outputs": [],
   "source": [
    "pdb_combo=pdbCGfolder+str(projName)+\"_\"+str(protein)+'_CG.pdb'"
   ]
  },
  {
   "cell_type": "code",
   "execution_count": 29,
   "id": "82338b2b",
   "metadata": {},
   "outputs": [
    {
     "name": "stderr",
     "output_type": "stream",
     "text": [
      "/home/ysubbotina/anaconda3/lib/python3.9/site-packages/MDAnalysis/coordinates/PDB.py:777: UserWarning: Unit cell dimensions not found. CRYST1 record set to unitary values.\n",
      "  warnings.warn(\"Unit cell dimensions not found. \"\n",
      "/home/ysubbotina/anaconda3/lib/python3.9/site-packages/MDAnalysis/coordinates/PDB.py:1153: UserWarning: Found no information for attr: 'altLocs' Using default value of ' '\n",
      "  warnings.warn(\"Found no information for attr: '{}'\"\n",
      "/home/ysubbotina/anaconda3/lib/python3.9/site-packages/MDAnalysis/coordinates/PDB.py:1153: UserWarning: Found no information for attr: 'icodes' Using default value of ' '\n",
      "  warnings.warn(\"Found no information for attr: '{}'\"\n",
      "/home/ysubbotina/anaconda3/lib/python3.9/site-packages/MDAnalysis/coordinates/PDB.py:1153: UserWarning: Found no information for attr: 'chainIDs' Using default value of ''\n",
      "  warnings.warn(\"Found no information for attr: '{}'\"\n",
      "/home/ysubbotina/anaconda3/lib/python3.9/site-packages/MDAnalysis/coordinates/PDB.py:1153: UserWarning: Found no information for attr: 'occupancies' Using default value of '1.0'\n",
      "  warnings.warn(\"Found no information for attr: '{}'\"\n",
      "/home/ysubbotina/anaconda3/lib/python3.9/site-packages/MDAnalysis/coordinates/PDB.py:1153: UserWarning: Found no information for attr: 'tempfactors' Using default value of '0.0'\n",
      "  warnings.warn(\"Found no information for attr: '{}'\"\n",
      "/home/ysubbotina/anaconda3/lib/python3.9/site-packages/MDAnalysis/coordinates/PDB.py:1153: UserWarning: Found no information for attr: 'elements' Using default value of ' '\n",
      "  warnings.warn(\"Found no information for attr: '{}'\"\n",
      "/home/ysubbotina/anaconda3/lib/python3.9/site-packages/MDAnalysis/coordinates/PDB.py:1153: UserWarning: Found no information for attr: 'record_types' Using default value of 'ATOM'\n",
      "  warnings.warn(\"Found no information for attr: '{}'\"\n",
      "/home/ysubbotina/anaconda3/lib/python3.9/site-packages/MDAnalysis/coordinates/PDB.py:1153: UserWarning: Found no information for attr: 'formalcharges' Using default value of '0'\n",
      "  warnings.warn(\"Found no information for attr: '{}'\"\n",
      "/home/ysubbotina/anaconda3/lib/python3.9/site-packages/MDAnalysis/coordinates/PDB.py:1200: UserWarning: Found missing chainIDs. Corresponding atoms will use value of 'X'\n",
      "  warnings.warn(\"Found missing chainIDs.\"\n"
     ]
    }
   ],
   "source": [
    "combo = Merge(u_prot.atoms, u_nano.atoms)\n",
    "combo.atoms.write(pdb_combo)\n",
    "\n",
    "chain_ids=[]\n",
    "for ch in combo.atoms.segids:\n",
    "    ch_id=ch.strip(\"PRO\").strip(\"P\")\n",
    "    chain_ids.append(ch_id)\n",
    "\n",
    "combo.add_TopologyAttr(\"chainIDs\")\n",
    "\n",
    "combo.atoms.chainIDs=chain_ids"
   ]
  },
  {
   "cell_type": "markdown",
   "id": "b6454b87",
   "metadata": {},
   "source": [
    "# Visualize NP-protein complex"
   ]
  },
  {
   "cell_type": "code",
   "execution_count": 30,
   "id": "6e5c2eb5",
   "metadata": {},
   "outputs": [],
   "source": [
    "def rotate_view(view, x=0, y=0, z=0, degrees=True):\n",
    "    radians = 1\n",
    "    if degrees: radians = math.pi / 180\n",
    "    view.control.spin([1, 0, 0], x*radians)\n",
    "    view.control.spin([0, 1, 0], y*radians)\n",
    "    view.control.spin([0, 0, 1], z*radians)"
   ]
  },
  {
   "cell_type": "code",
   "execution_count": 31,
   "id": "cf725f01",
   "metadata": {},
   "outputs": [],
   "source": [
    "def find_contacts(cutOff=\"\"):  #within 0.5 nm  from NP\n",
    "    rLimit=cutOff\n",
    "    rCut=10*(radii_core+radii+conf_ssd)+rLimit\n",
    "    closeup=combo.select_atoms(\"protein and point 0.0 0.0 0.0 {}\".format(rCut))\n",
    "    tags=np.unique(closeup.residues.resnames)\n",
    "    #resindx=np.unique(closeup.residues.residues)\n",
    "    resids=np.unique(closeup.resids)\n",
    "    segments=np.unique(closeup.resids)\n",
    "    atom_contacts=closeup.atoms.indices\n",
    "    return len(resids), segments, resids, atom_contacts\n",
    "    "
   ]
  },
  {
   "cell_type": "code",
   "execution_count": 32,
   "id": "8a238fcf",
   "metadata": {},
   "outputs": [],
   "source": [
    "count=0\n",
    "cutOff=5.0\n",
    "while count < 4:\n",
    "    cutOff=cutOff+1.0\n",
    "    count, segments, resids, atom_contacts = find_contacts(cutOff=cutOff)      \n",
    "#sel_upd=\"protein and (bynum \" + \" or resid \".join([str(i) for i in resids])+\")\"\n",
    "sel_by_atoms=\"protein and (bynum \" + \" or bynum \".join([str(i) for i in atom_contacts])+\")\"\n",
    "atoms_in_contact=combo.select_atoms(\"{}\".format(sel_by_atoms))\n",
    "sel_by_residues=\"protein and (\"+\" or \".join([\"(resid \"+str(i)+\" and segid \"+str(atoms_in_contact.atoms.segids[k]+\") \") for k,i in enumerate(atoms_in_contact.atoms.resids)])+\")\"\n",
    "closeup=combo.select_atoms(\"{}\".format(sel_by_residues))\n",
    "selResidue=\"protein and (\"+\" or \".join([\"(residue \"+str(i)+\" and segid \"+str(closeup.atoms.segids[k]+\") \") for k,i in enumerate(closeup.atoms.resids)])+\")\""
   ]
  },
  {
   "cell_type": "code",
   "execution_count": 34,
   "id": "835adc78",
   "metadata": {},
   "outputs": [
    {
     "data": {
      "text/plain": [
       "array(['A', 'A', 'A', ..., 'N', 'N', 'N'], dtype=object)"
      ]
     },
     "execution_count": 34,
     "metadata": {},
     "output_type": "execute_result"
    }
   ],
   "source": [
    "combo.atoms.chainIDs"
   ]
  },
  {
   "cell_type": "code",
   "execution_count": 39,
   "id": "3ec1ba54",
   "metadata": {},
   "outputs": [],
   "source": [
    "#tyr=combo.select_atoms(\"resname TYR and (resid 138 or resid 150)\")\n",
    "#trp=combo.select_atoms(\"resname TRP\")\n",
    "#tyr_sele=\"resname TYR and (resid 138 or resid 150)\"\n",
    "#tyr_2=combo.select_atoms(\"resname TYR and  (resid 401 or resid 497)\")"
   ]
  },
  {
   "cell_type": "code",
   "execution_count": 38,
   "id": "39fd0805",
   "metadata": {},
   "outputs": [],
   "source": [
    "compstatin=combo.select_atoms(\"(resid 138:457 or resid 489:491) and chainID  B\")\n",
    "#Ile389-Ser394, Arg456-Met457, and Gly489-Asp491\n",
    "#650–726\n",
    "ana=combo.select_atoms(\"(resid 650:726 ) and not chainID  N\")\n",
    "#963–1268\n",
    "ted=combo.select_atoms(\"(resid 963:1268 ) and not chainID  N\")\n",
    "#1496–1641\n",
    "c345c=combo.select_atoms(\"(resid 1496:1641 ) and not chainID  N\")"
   ]
  },
  {
   "cell_type": "code",
   "execution_count": 40,
   "id": "e5acfcf0",
   "metadata": {},
   "outputs": [
    {
     "ename": "IndexError",
     "evalue": "Cannot write empty AtomGroup",
     "output_type": "error",
     "traceback": [
      "\u001b[0;31m---------------------------------------------------------------------------\u001b[0m",
      "\u001b[0;31mIndexError\u001b[0m                                Traceback (most recent call last)",
      "\u001b[0;32m/tmp/ipykernel_229908/3710430786.py\u001b[0m in \u001b[0;36m<cell line: 28>\u001b[0;34m()\u001b[0m\n\u001b[1;32m     26\u001b[0m \u001b[0;34m\u001b[0m\u001b[0m\n\u001b[1;32m     27\u001b[0m \u001b[0;34m\u001b[0m\u001b[0m\n\u001b[0;32m---> 28\u001b[0;31m \u001b[0mview\u001b[0m\u001b[0;34m.\u001b[0m\u001b[0madd_component\u001b[0m\u001b[0;34m(\u001b[0m\u001b[0mtyr\u001b[0m\u001b[0;34m)\u001b[0m\u001b[0;34m\u001b[0m\u001b[0;34m\u001b[0m\u001b[0m\n\u001b[0m\u001b[1;32m     29\u001b[0m \u001b[0mview\u001b[0m\u001b[0;34m.\u001b[0m\u001b[0mcomponent_3\u001b[0m\u001b[0;34m.\u001b[0m\u001b[0madd_representation\u001b[0m\u001b[0;34m(\u001b[0m\u001b[0mrepr_type\u001b[0m\u001b[0;34m=\u001b[0m\u001b[0;34m'spacefill'\u001b[0m\u001b[0;34m,\u001b[0m \u001b[0mcolor\u001b[0m\u001b[0;34m=\u001b[0m\u001b[0;34m'yellow'\u001b[0m\u001b[0;34m)\u001b[0m\u001b[0;34m\u001b[0m\u001b[0;34m\u001b[0m\u001b[0m\n\u001b[1;32m     30\u001b[0m \u001b[0;34m\u001b[0m\u001b[0m\n",
      "\u001b[0;32m~/anaconda3/lib/python3.9/site-packages/nglview/widget.py\u001b[0m in \u001b[0;36madd_component\u001b[0;34m(self, filename, **kwargs)\u001b[0m\n\u001b[1;32m   1203\u001b[0m                 \u001b[0mfilename\u001b[0m \u001b[0;34m=\u001b[0m \u001b[0mBACKENDS\u001b[0m\u001b[0;34m[\u001b[0m\u001b[0mpackage_name\u001b[0m\u001b[0;34m]\u001b[0m\u001b[0;34m(\u001b[0m\u001b[0mfilename\u001b[0m\u001b[0;34m)\u001b[0m\u001b[0;34m\u001b[0m\u001b[0;34m\u001b[0m\u001b[0m\n\u001b[1;32m   1204\u001b[0m \u001b[0;34m\u001b[0m\u001b[0m\n\u001b[0;32m-> 1205\u001b[0;31m         \u001b[0mself\u001b[0m\u001b[0;34m.\u001b[0m\u001b[0m_load_data\u001b[0m\u001b[0;34m(\u001b[0m\u001b[0mfilename\u001b[0m\u001b[0;34m,\u001b[0m \u001b[0;34m**\u001b[0m\u001b[0mkwargs\u001b[0m\u001b[0;34m)\u001b[0m\u001b[0;34m\u001b[0m\u001b[0;34m\u001b[0m\u001b[0m\n\u001b[0m\u001b[1;32m   1206\u001b[0m         \u001b[0;31m# assign an ID\u001b[0m\u001b[0;34m\u001b[0m\u001b[0;34m\u001b[0m\u001b[0m\n\u001b[1;32m   1207\u001b[0m         \u001b[0mself\u001b[0m\u001b[0;34m.\u001b[0m\u001b[0m_ngl_component_ids\u001b[0m\u001b[0;34m.\u001b[0m\u001b[0mappend\u001b[0m\u001b[0;34m(\u001b[0m\u001b[0mstr\u001b[0m\u001b[0;34m(\u001b[0m\u001b[0muuid\u001b[0m\u001b[0;34m.\u001b[0m\u001b[0muuid4\u001b[0m\u001b[0;34m(\u001b[0m\u001b[0;34m)\u001b[0m\u001b[0;34m)\u001b[0m\u001b[0;34m)\u001b[0m\u001b[0;34m\u001b[0m\u001b[0;34m\u001b[0m\u001b[0m\n",
      "\u001b[0;32m~/anaconda3/lib/python3.9/site-packages/nglview/widget.py\u001b[0m in \u001b[0;36m_load_data\u001b[0;34m(self, obj, **kwargs)\u001b[0m\n\u001b[1;32m   1229\u001b[0m         \u001b[0;32mif\u001b[0m \u001b[0;32mnot\u001b[0m \u001b[0mis_url\u001b[0m\u001b[0;34m:\u001b[0m\u001b[0;34m\u001b[0m\u001b[0;34m\u001b[0m\u001b[0m\n\u001b[1;32m   1230\u001b[0m             \u001b[0;32mif\u001b[0m \u001b[0mhasattr\u001b[0m\u001b[0;34m(\u001b[0m\u001b[0mobj\u001b[0m\u001b[0;34m,\u001b[0m \u001b[0;34m'get_structure_string'\u001b[0m\u001b[0;34m)\u001b[0m\u001b[0;34m:\u001b[0m\u001b[0;34m\u001b[0m\u001b[0;34m\u001b[0m\u001b[0m\n\u001b[0;32m-> 1231\u001b[0;31m                 \u001b[0mblob\u001b[0m \u001b[0;34m=\u001b[0m \u001b[0mobj\u001b[0m\u001b[0;34m.\u001b[0m\u001b[0mget_structure_string\u001b[0m\u001b[0;34m(\u001b[0m\u001b[0;34m)\u001b[0m\u001b[0;34m\u001b[0m\u001b[0;34m\u001b[0m\u001b[0m\n\u001b[0m\u001b[1;32m   1232\u001b[0m                 \u001b[0mkwargs2\u001b[0m\u001b[0;34m[\u001b[0m\u001b[0;34m'ext'\u001b[0m\u001b[0;34m]\u001b[0m \u001b[0;34m=\u001b[0m \u001b[0mobj\u001b[0m\u001b[0;34m.\u001b[0m\u001b[0mext\u001b[0m\u001b[0;34m\u001b[0m\u001b[0;34m\u001b[0m\u001b[0m\n\u001b[1;32m   1233\u001b[0m                 \u001b[0mpassing_buffer\u001b[0m \u001b[0;34m=\u001b[0m \u001b[0;32mTrue\u001b[0m\u001b[0;34m\u001b[0m\u001b[0;34m\u001b[0m\u001b[0m\n",
      "\u001b[0;32m~/anaconda3/lib/python3.9/site-packages/nglview/adaptor.py\u001b[0m in \u001b[0;36mget_structure_string\u001b[0;34m(self)\u001b[0m\n\u001b[1;32m    455\u001b[0m             \u001b[0;32mwith\u001b[0m \u001b[0mwarnings\u001b[0m\u001b[0;34m.\u001b[0m\u001b[0mcatch_warnings\u001b[0m\u001b[0;34m(\u001b[0m\u001b[0;34m)\u001b[0m\u001b[0;34m:\u001b[0m\u001b[0;34m\u001b[0m\u001b[0;34m\u001b[0m\u001b[0m\n\u001b[1;32m    456\u001b[0m                 \u001b[0mwarnings\u001b[0m\u001b[0;34m.\u001b[0m\u001b[0msimplefilter\u001b[0m\u001b[0;34m(\u001b[0m\u001b[0;34m'ignore'\u001b[0m\u001b[0;34m)\u001b[0m\u001b[0;34m\u001b[0m\u001b[0;34m\u001b[0m\u001b[0m\n\u001b[0;32m--> 457\u001b[0;31m                 \u001b[0mw\u001b[0m\u001b[0;34m.\u001b[0m\u001b[0mwrite\u001b[0m\u001b[0;34m(\u001b[0m\u001b[0matoms\u001b[0m\u001b[0;34m)\u001b[0m\u001b[0;34m\u001b[0m\u001b[0;34m\u001b[0m\u001b[0m\n\u001b[0m\u001b[1;32m    458\u001b[0m         \u001b[0;31m# extract from the stream\u001b[0m\u001b[0;34m\u001b[0m\u001b[0;34m\u001b[0m\u001b[0m\n\u001b[1;32m    459\u001b[0m         \u001b[0mpdb_string\u001b[0m \u001b[0;34m=\u001b[0m \u001b[0mf\u001b[0m\u001b[0;34m.\u001b[0m\u001b[0mread\u001b[0m\u001b[0;34m(\u001b[0m\u001b[0;34m)\u001b[0m\u001b[0;34m\u001b[0m\u001b[0;34m\u001b[0m\u001b[0m\n",
      "\u001b[0;32m~/anaconda3/lib/python3.9/site-packages/MDAnalysis/coordinates/PDB.py\u001b[0m in \u001b[0;36mwrite\u001b[0;34m(self, obj)\u001b[0m\n\u001b[1;32m    939\u001b[0m         \"\"\"\n\u001b[1;32m    940\u001b[0m \u001b[0;34m\u001b[0m\u001b[0m\n\u001b[0;32m--> 941\u001b[0;31m         \u001b[0mself\u001b[0m\u001b[0;34m.\u001b[0m\u001b[0m_update_frame\u001b[0m\u001b[0;34m(\u001b[0m\u001b[0mobj\u001b[0m\u001b[0;34m)\u001b[0m\u001b[0;34m\u001b[0m\u001b[0;34m\u001b[0m\u001b[0m\n\u001b[0m\u001b[1;32m    942\u001b[0m         \u001b[0mself\u001b[0m\u001b[0;34m.\u001b[0m\u001b[0m_write_pdb_header\u001b[0m\u001b[0;34m(\u001b[0m\u001b[0;34m)\u001b[0m\u001b[0;34m\u001b[0m\u001b[0;34m\u001b[0m\u001b[0m\n\u001b[1;32m    943\u001b[0m         \u001b[0;31m# Issue 105: with write() ONLY write a single frame; use\u001b[0m\u001b[0;34m\u001b[0m\u001b[0;34m\u001b[0m\u001b[0m\n",
      "\u001b[0;32m~/anaconda3/lib/python3.9/site-packages/MDAnalysis/coordinates/PDB.py\u001b[0m in \u001b[0;36m_update_frame\u001b[0;34m(self, obj)\u001b[0m\n\u001b[1;32m    914\u001b[0m                             \"atom names and types) required in PDB files\")\n\u001b[1;32m    915\u001b[0m         \u001b[0;32mif\u001b[0m \u001b[0mlen\u001b[0m\u001b[0;34m(\u001b[0m\u001b[0mobj\u001b[0m\u001b[0;34m.\u001b[0m\u001b[0matoms\u001b[0m\u001b[0;34m)\u001b[0m \u001b[0;34m==\u001b[0m \u001b[0;36m0\u001b[0m\u001b[0;34m:\u001b[0m\u001b[0;34m\u001b[0m\u001b[0;34m\u001b[0m\u001b[0m\n\u001b[0;32m--> 916\u001b[0;31m             \u001b[0;32mraise\u001b[0m \u001b[0mIndexError\u001b[0m\u001b[0;34m(\u001b[0m\u001b[0;34m\"Cannot write empty AtomGroup\"\u001b[0m\u001b[0;34m)\u001b[0m\u001b[0;34m\u001b[0m\u001b[0;34m\u001b[0m\u001b[0m\n\u001b[0m\u001b[1;32m    917\u001b[0m \u001b[0;34m\u001b[0m\u001b[0m\n\u001b[1;32m    918\u001b[0m         \u001b[0;31m# remember obj for some of other methods --- NOTE: this is an evil/lazy\u001b[0m\u001b[0;34m\u001b[0m\u001b[0;34m\u001b[0m\u001b[0m\n",
      "\u001b[0;31mIndexError\u001b[0m: Cannot write empty AtomGroup"
     ]
    }
   ],
   "source": [
    "view=nv.show_mdanalysis(combo)\n",
    "view._remote_call('setSize', target='Widget', args=['900px','1200px'])\n",
    "view.clear_representations()\n",
    "\n",
    "view.add_representation(repr_type='cartoon', selection='protein', color='chainid')\n",
    "#view.add_representation(repr_type='surface', surfaceType= 'av',  opaqueBack=False, selection='protein', opacity=0.05, color='indigo')\n",
    "\n",
    "\n",
    "\n",
    "if count > 0:\n",
    "    view.add_component(closeup)\n",
    "\n",
    "for bds in list(beadDicHex.keys()):\n",
    "    view.add_representation(repr_type='spacefill', selection=bds,  opacity=0.6, color=beadDicHex[bds], radius=(radii*1.0)*10)\n",
    "\n",
    "\n",
    "central = view.shape\n",
    "central.add_sphere([ 0.0, 0.0, 0.0 ], beadDicRGB[core], radii_core*10)\n",
    "\n",
    "#view.component_0.remove_surface()\n",
    "view[1].clear_representations()\n",
    "view[1].add_representation(\"hyperball\", selection=selResidue)\n",
    "view[1].add_representation(repr_type='surface', wireframe=True, surfaceType= 'av', selection=selResidue, \n",
    "                        opaqueBack=True, opacity=0.05, color='magenta')\n",
    "selLabel=\" or \".join([\"(.CA and  \"+str(i)+\")\" for i in closeup.residues.resids])\n",
    "\n",
    "\n",
    "#view.add_component(tyr)\n",
    "#view.component_3.add_representation(repr_type='spacefill', color='yellow')\n",
    "\n",
    "#view.add_component(tyr_2)\n",
    "#view.component_4.add_representation(repr_type='spacefill', color='orange')\n",
    "\n",
    "# view.component_1.remove_label()\n",
    "# view.component_1.remove_label()\n",
    "\n",
    "view.add_component(compstatin)\n",
    "view.component_3.add_representation(repr_type='spacefill', color='green')\n",
    "\n",
    "view.add_component(ana)\n",
    "view.component_4.add_representation(repr_type='spacefill', color='red')\n",
    "\n",
    "\n",
    "view.add_component(ted)\n",
    "view.component_5.add_representation(repr_type='spacefill', color='violet')\n",
    "\n",
    "view.add_component(c345c)\n",
    "view.component_6.add_representation(repr_type='spacefill', color='blue')\n",
    "\n",
    "#view._display_repr()\n",
    "view"
   ]
  },
  {
   "cell_type": "code",
   "execution_count": 52,
   "id": "ff313ed6",
   "metadata": {},
   "outputs": [],
   "source": [
    "rotate_view(view, x=0, y=90, z=0, degrees=True)\n",
    "rotate_view(view, x=0, y=0, z=-90, degrees=True)\n",
    "view.control.zoom(0.1)\n",
    "view.control.translate([0,0,-2])"
   ]
  },
  {
   "cell_type": "code",
   "execution_count": 53,
   "id": "4891c905",
   "metadata": {},
   "outputs": [],
   "source": [
    "rotate_view(view, x=0, y=0, z=90, degrees=True) "
   ]
  },
  {
   "cell_type": "code",
   "execution_count": null,
   "id": "45dc9d75",
   "metadata": {},
   "outputs": [],
   "source": [
    "# view.component_1.remove_label()\n",
    "# view.component_1.remove_label()"
   ]
  },
  {
   "cell_type": "code",
   "execution_count": 54,
   "id": "68904b50",
   "metadata": {},
   "outputs": [],
   "source": [
    "# #view.component_1.add_representation(repr_type=\"label\", selection=selLabel, labelType=\"resname\", attachment =\"bottom-center\",\n",
    "#                               color = \"black\", fontWeight=\"bold\", radius=5,\n",
    "#                               showBackground = True, xOffset = 1 , zOffset =5, yOffset =-5)\n",
    "# #view.component_1.add_representation(repr_type=\"label\", selection=selLabel, labelType=\"resno\", attachment =\"bottom-left\",\n",
    "#                               color = \"black\", fontWeight=\"bold\", radius=5,\n",
    "#                               showBackground = True, xOffset = 3 , zOffset =5, yOffset =-5)"
   ]
  },
  {
   "cell_type": "code",
   "execution_count": 55,
   "id": "890d6917",
   "metadata": {},
   "outputs": [],
   "source": [
    "#selLabelTyr=\" or \".join([\"(.CA and  \"+str(i)+\")\" for i in tyr.residues.resids])\n",
    "#selLabelTyr2=\" or \".join([\"(.CA and  \"+str(i)+\")\" for i in tyr_2.residues.resids])"
   ]
  },
  {
   "cell_type": "code",
   "execution_count": null,
   "id": "45e62070",
   "metadata": {},
   "outputs": [],
   "source": [
    "# view.component_3.remove_label()\n",
    "# view.component_3.remove_label()"
   ]
  },
  {
   "cell_type": "code",
   "execution_count": 56,
   "id": "e1ab77d9",
   "metadata": {},
   "outputs": [],
   "source": [
    "# #view.component_3.add_representation(repr_type=\"label\", selection=selLabelTyr,  labelType=\"resname\", attachment =\"bottom-center\",\n",
    "#                               color = \"black\", fontWeight=\"bold\", radius=5,\n",
    "#                               showBackground = True, xOffset = 1 , zOffset =5, yOffset =-5)\n",
    "\n",
    "# #view.component_3.add_representation(repr_type=\"label\", selection=selLabelTyr,   labelType=\"resno\", attachment =\"bottom-left\",\n",
    "#                               color = \"black\", fontWeight=\"bold\", radius=5,\n",
    "#                               showBackground = True, xOffset = 3 , zOffset =5, yOffset =-5)"
   ]
  },
  {
   "cell_type": "code",
   "execution_count": 59,
   "id": "fbc7f68c",
   "metadata": {},
   "outputs": [],
   "source": [
    "# view.component_4.add_representation(repr_type=\"label\", selection=selLabelTyr2,  labelType=\"resname\", attachment =\"bottom-center\",\n",
    "#                               color = \"black\", fontWeight=\"bold\", radius=5,\n",
    "#                               showBackground = True, xOffset = 1 , zOffset =5, yOffset =-5)\n",
    "\n",
    "# view.component_4.add_representation(repr_type=\"label\", selection=selLabelTyr2,   labelType=\"resno\", attachment =\"bottom-left\",\n",
    "#                               color = \"black\", fontWeight=\"bold\", radius=5,\n",
    "#                               showBackground = True, xOffset = 3 , zOffset =5, yOffset =-5)"
   ]
  },
  {
   "cell_type": "code",
   "execution_count": 60,
   "id": "80d06699",
   "metadata": {},
   "outputs": [],
   "source": [
    "view.parameters = dict(theme='light')"
   ]
  },
  {
   "cell_type": "code",
   "execution_count": 61,
   "id": "bcff5f67",
   "metadata": {},
   "outputs": [
    {
     "data": {
      "application/vnd.jupyter.widget-view+json": {
       "model_id": "fd2f5da04b2b486d8f140c67eaf63248",
       "version_major": 2,
       "version_minor": 0
      },
      "text/plain": [
       "A Jupyter Widget"
      ]
     },
     "metadata": {},
     "output_type": "display_data"
    }
   ],
   "source": [
    "view.render_image(factor=6, transparent=True, trim=True)"
   ]
  },
  {
   "cell_type": "code",
   "execution_count": 62,
   "id": "105b0172",
   "metadata": {},
   "outputs": [],
   "source": [
    "png_filename=pdbCGfolder+str(projName)+\"_\"+str(protein)+'_CG.png'\n",
    "eps_filename=pdbCGfolder+str(projName)+\"_\"+str(protein)+'_CG.eps'\n",
    "pdf_filename=pdbCGfolder+str(projName)+\"_\"+str(protein)+'_CG.pdf'"
   ]
  },
  {
   "cell_type": "code",
   "execution_count": 63,
   "id": "20b459ef",
   "metadata": {},
   "outputs": [],
   "source": [
    "im=view._display_image()"
   ]
  },
  {
   "cell_type": "code",
   "execution_count": 64,
   "id": "839197f0",
   "metadata": {},
   "outputs": [],
   "source": [
    "image = Image.open(io.BytesIO(bytearray(im.data)))\n",
    "rgba = image.convert(\"RGBA\")\n",
    "datas = rgba.getdata()\n",
    "\n",
    "newData = []\n",
    "for item in datas:\n",
    "    if item[0] == 0 and item[1] == 0 and item[2] == 0:\n",
    "        newData.append((255, 255, 255, 0))\n",
    "    else:\n",
    "        newData.append(item)\n",
    "rgba.putdata(newData)\n",
    "rgba.save(png_filename,dpi=(600, 600))\n",
    "\n",
    "rgb = Image.new('RGB', image.size, (255, 255, 255))  # white background\n",
    "rgb.paste(image, mask=image.split()[3])   \n",
    "\n",
    "rgb.save(pdf_filename,dpi=(600, 600))"
   ]
  },
  {
   "cell_type": "code",
   "execution_count": null,
   "id": "4ad1eb25",
   "metadata": {},
   "outputs": [],
   "source": []
  }
 ],
 "metadata": {
  "jupytext": {
   "cell_metadata_filter": "-all",
   "executable": " /usr/bin/python",
   "main_language": "python",
   "notebook_metadata_filter": "-all"
  },
  "kernelspec": {
   "display_name": "Python 3 (ipykernel)",
   "language": "python",
   "name": "python3"
  },
  "language_info": {
   "codemirror_mode": {
    "name": "ipython",
    "version": 3
   },
   "file_extension": ".py",
   "mimetype": "text/x-python",
   "name": "python",
   "nbconvert_exporter": "python",
   "pygments_lexer": "ipython3",
   "version": "3.9.15"
  },
  "varInspector": {
   "cols": {
    "lenName": 16,
    "lenType": 16,
    "lenVar": 40
   },
   "kernels_config": {
    "python": {
     "delete_cmd_postfix": "",
     "delete_cmd_prefix": "del ",
     "library": "var_list.py",
     "varRefreshCmd": "print(var_dic_list())"
    },
    "r": {
     "delete_cmd_postfix": ") ",
     "delete_cmd_prefix": "rm(",
     "library": "var_list.r",
     "varRefreshCmd": "cat(var_dic_list()) "
    }
   },
   "types_to_exclude": [
    "module",
    "function",
    "builtin_function_or_method",
    "instance",
    "_Feature"
   ],
   "window_display": false
  }
 },
 "nbformat": 4,
 "nbformat_minor": 5
}
