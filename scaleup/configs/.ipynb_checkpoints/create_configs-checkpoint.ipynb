{
 "cells": [
  {
   "cell_type": "code",
   "execution_count": 1,
   "id": "7bb48c30",
   "metadata": {},
   "outputs": [],
   "source": [
    "import os, sys\n",
    "import numpy as np\n",
    "import pandas as pd\n",
    "import scipy"
   ]
  },
  {
   "cell_type": "code",
   "execution_count": 3,
   "id": "a0bcc352",
   "metadata": {},
   "outputs": [],
   "source": [
    "pH = [6.8, 7.3,8.5]\n",
    "Temp=309.75\n",
    "fcc=111\n",
    "#fcc=\"000\"\n",
    "#fcc=\"001\"\n",
    "R = [2, 4 , 8, 10 , 15, 20, 25, 30,35 ,40,45, 50 ]\n",
    "zPot = [0.0*10**(-3),-10.0*10**(-3) , -20.0*10**(-3) ,-30.0*10**(-3) , -40.0*10**(-3) ,-50.0*10**(-3) ,-60.0*10**(-3) ]\n",
    "pdbID=\"1hzh\""
   ]
  },
  {
   "cell_type": "code",
   "execution_count": 4,
   "id": "fd332d88",
   "metadata": {},
   "outputs": [],
   "source": [
    "wd=os.getcwd()\n",
    "project=wd.rsplit(\"/\")[-2]"
   ]
  },
  {
   "cell_type": "code",
   "execution_count": 5,
   "id": "90ffdfd6",
   "metadata": {},
   "outputs": [
    {
     "data": {
      "text/plain": [
       "[[6.8,\n",
       "  309.75,\n",
       "  'Ag',\n",
       "  111,\n",
       "  [0.0, -0.01, -0.02, -0.03, -0.04, -0.05, -0.06],\n",
       "  [2, 4, 8, 10, 15, 20, 25, 30, 35, 40, 45, 50],\n",
       "  '1hzh'],\n",
       " [7.3,\n",
       "  309.75,\n",
       "  'Ag',\n",
       "  111,\n",
       "  [0.0, -0.01, -0.02, -0.03, -0.04, -0.05, -0.06],\n",
       "  [2, 4, 8, 10, 15, 20, 25, 30, 35, 40, 45, 50],\n",
       "  '1hzh'],\n",
       " [8.5,\n",
       "  309.75,\n",
       "  'Ag',\n",
       "  111,\n",
       "  [0.0, -0.01, -0.02, -0.03, -0.04, -0.05, -0.06],\n",
       "  [2, 4, 8, 10, 15, 20, 25, 30, 35, 40, 45, 50],\n",
       "  '1hzh']]"
      ]
     },
     "execution_count": 5,
     "metadata": {},
     "output_type": "execute_result"
    }
   ],
   "source": [
    "condArr=[]\n",
    "for m in  pH:\n",
    "    cor=\"Ag\"\n",
    "    #cor=\"PEG\"\n",
    "    #cor=\"Fe2O3\"\n",
    "    zp=zPot\n",
    "    ph=m\n",
    "    t=Temp\n",
    "    r=R\n",
    "    fcc=fcc\n",
    "    condArr.append([ph, t, cor,  fcc, zp, r, pdbID])\n",
    "condArr"
   ]
  },
  {
   "cell_type": "code",
   "execution_count": 6,
   "id": "7f4b6895",
   "metadata": {},
   "outputs": [],
   "source": [
    "if cor in [\"Ag\",\"Au\",\"PEG\"]:\n",
    "    str1=\"amino-acids         = [ GLY, ALA, ARG, ASN, ASP, CYS, GLN, GLU, HIS, ILE, LEU, LYS, MET, PHE, PRO, SER, THR, TRP, TYR, VAL, HID, HIE, HIP, CYM, AAN, GAN]\"\n",
    "    str2=\"amino-acid-charges  = [ 0, 0, 1, 0, -1, 0, 0, -1, 0.5, 0, 0, 1, 0, 0, 0, 0, 0, 0, 0, 0, 0, 0, 1, -1, 0, 0]\"\n",
    "    str3=\"amino-acid-radii    = [ 0.271, 0.266, 0.346, 0.311, 0.311, 0.301, 0.324, 0.324, 0.332, 0.31, 0.31, 0.324, 0.326, 0.339, 0.295, 0.284, 0.299, 0.366, 0.351, 0.297, 0.331, 0.331, 0.332, 0.317, 0.328, 0.339]\"\n",
    "else:\n",
    "    str1=\"amino-acids         = [ GLY, ALA, ARG, ASN, ASP, CYS, GLN, GLU, HIS, ILE, LEU, LYS, MET, PHE, PRO, SER, THR, TRP, TYR, VAL, HID, HIE, HIP, CYM, GAN]\"\n",
    "    str2=\"amino-acid-charges  = [ 0, 0, 1, 0, -1, 0, 0, -1, 0.5, 0, 0, 1, 0, 0, 0, 0, 0, 0, 0, 0, 0, 0, 1, -1, 0]\"\n",
    "    str3=\"amino-acid-radii    = [ 0.271, 0.266, 0.346, 0.311, 0.311, 0.301, 0.324, 0.324, 0.332, 0.31, 0.31, 0.324, 0.326, 0.339, 0.295, 0.284, 0.299, 0.366, 0.351, 0.297, 0.331, 0.331, 0.332, 0.317, 0.339]\"\n"
   ]
  },
  {
   "cell_type": "code",
   "execution_count": 7,
   "id": "20e9b983",
   "metadata": {},
   "outputs": [],
   "source": [
    "# str1=\"amino-acids         = [ GLY, ALA, ARG, ASN, ASP, CYS, GLN, GLU, ILE, LEU, LYS, MET, PHE, PRO, SER, THR, TRP, TYR, VAL, HID, HIE, HIP, CYM, AAN, GAN, DGL]\"\n",
    "# str2=\"amino-acid-charges  = [ 0.0, 0.0, 1.0, 0.0, -1.0, 0.0, 0.0, -1.0, 0.0, 0.0, 1.0, 0.0, 0.0, 0.0, 0.0, 0.0, 0.0, 0.0, 0.0, 0.0, 0.0, 1.0, -1.0, 0.0, 0.0, 0.0]\"\n",
    "# str3=\"amino-acid-radii    = [ 0.271, 0.266, 0.346, 0.311, 0.311, 0.301, 0.324, 0.324,  0.31, 0.31, 0.324, 0.326, 0.339, 0.295, 0.284, 0.299, 0.366, 0.351, 0.297, 0.331, 0.331, 0.332, 0.317, 0.328, 0.339, 0.362]\"\n"
   ]
  },
  {
   "cell_type": "code",
   "execution_count": 8,
   "id": "c9cf3f01",
   "metadata": {},
   "outputs": [],
   "source": [
    "# str1=\"amino-acids = [GLY, ALA, ARG, ASN, ASP, CYS, GLN, GLU, ILE, LEU, LYS, MET, PHE, PRO, SER, THR, TRP, TYR, VAL, HID, HIE, HIP, CYM, AAN, GAN, DGL, MAN, FUC, NGL, NGA, CHL, ETA, EST ]\"\n",
    "# str2=\"amino-acid-charges = [0.000, 0.000, 1.000, 0.000, -1.000, 0.000, 0.000, -1.000, 0.000, 0.000, 1.000, 0.000, 0.000, 0.000, 0.000, 0.000, 0.000, 0.000, 0.000, 0.000, 0.000, 1.000, -1.000, 0.000, 0.000, 0.000, 0.000, 0.000, 0.000, 0.000, 1.000, 1.000, 0.000 ]\"\n",
    "# str3=\"amino-acid-radii = [ 0.271, 0.266, 0.346, 0.311, 0.311, 0.301, 0.324, 0.324, 0.310, 0.310, 0.324, 0.326, 0.339, 0.295, 0.284, 0.299, 0.366, 0.351, 0.297, 0.331, 0.331, 0.332, 0.317, 0.328, 0.339, 0.362, 0.362, 0.351, 0.388, 0.388, 0.270, 0.204, 0.270 ]\"\n"
   ]
  },
  {
   "cell_type": "code",
   "execution_count": 9,
   "id": "3d9f4949",
   "metadata": {},
   "outputs": [],
   "source": [
    "configs=[]\n",
    "for line in condArr:\n",
    "    ph, T, core, Miller, zPot, R, pdb_id = line[0],line[1],line[2],line[3],line[4],line[5],line[6]\n",
    "    configName=(\"{}_{}{}.config\").format(ph, core.lower(),Miller)\n",
    "    configs.append(configName)\n",
    "    uaDir=\"/home/ysubbotina/apps/unitedatom/\"\n",
    "    projectLoc=project\n",
    "    configLoc=uaDir+(\"{}/configs/\").format(projectLoc)\n",
    "    pdbLoc=uaDir+(\"{}/web/{}/propKa2UA.pdb\").format(projectLoc, ph)\n",
    "    resLoc=uaDir+(\"{}/res/{}\").format(projectLoc,ph)\n",
    "    pmfLoc=uaDir+(\"{}/surface/PMF/{}/{}/\").format(projectLoc,core,Miller)\n",
    "    hamakerLoc=uaDir+(\"{}/web/{}/material.dat\").format(projectLoc,ph)\n",
    "\n",
    "    #hamakerLoc=(\"{}/surface/hamaker/{}.dat\").format(projectLoc,core)\n",
    "\n",
    "    \n",
    "    npsLoc=(\"{}/nps/configs/{}_NPs\").format(resLoc,configName)\n",
    "    if not os.path.isdir(resLoc):\n",
    "        os.mkdir(resLoc)\n",
    "    for reg in [2,1,0]:\n",
    "        if not os.path.isdir(npsLoc.rsplit(\"/\",reg)[0]):\n",
    "            os.mkdir(npsLoc.rsplit(\"/\",reg)[0])\n",
    "    with open(configLoc+configName,\"w\") as f:\n",
    "        f.write((\"#Generated UA Config file MODEL: {}; MATERIAL: {}-{}_{}\\n\").format(project, core, pdb_id, ph))\n",
    "        f.write((\"pdb-target          = {}\\n\").format(pdbLoc))\n",
    "        f.write((\"output-directory    = {}\\n\").format(resLoc))\n",
    "        f.write((\"pmf-directory       = {}\\n\").format(pmfLoc))\n",
    "        f.write((\"hamaker-file        = {}\\n\").format(hamakerLoc))\n",
    "        f.write((\"temperature         = {}\\n\").format(T))\n",
    "        f.write((\"zeta-potential      = {}\\n\").format(zPot))\n",
    "        f.write((\"nanoparticle-radius = {}\\n\").format(R))\n",
    "        #f.write((\"np-target           =  {}\\n\").format(npsLoc))\n",
    "        f.write(\"np-type = 1\\n\")\n",
    "        f.write(\"enable-surface\\n\")\n",
    "        f.write(\"enable-core\\n\")\n",
    "        f.write(\"enable-electrostatic\\n\")\n",
    "        f.write(\"pdb-jitter-magnitude = 0\\n\")\n",
    "        f.write(\"pmf-cutoff = 1.2\\n\")\n",
    "        f.write(\"simulation-steps = 2000\\n\")\n",
    "        f.write(\"potential-cutoff=5.0 \\n\")\n",
    "        f.write(\"potential-size = 1000\\n\")\n",
    "        f.write(\"angle-delta = 5.0\\n\")\n",
    "        f.write(\"num-random-samples = 6.0\\n\") #default\n",
    "        f.write(\"confirm-override-angle\\n\")\n",
    "        #f.write(\"enable-local-boltz\\n\")\n",
    "        f.write(\"bjerum-length=0.724\\n\")\n",
    "        f.write(\"debye-length=0.78\\n\")\n",
    "        f.write(\"{}\\n\".format(str1))\n",
    "        f.write(\"{}\\n\".format(str2))\n",
    "        f.write(\"{}\\n\".format(str3))\n",
    "        #f.write(\"amino-acids = [GLY, ALA, ARG, ASN, ASP, CYS, GLN, GLU,  ILE, LEU, LYS, MET, PHE, PRO, SER, THR, TRP, TYR, VAL, HID, HIE, HIP, CYM, AAN, GAN, DGL, MAN, FUC, NGL, NGA, CHL, ETA, EST, PHO ]\\n\")\n",
    "        #f.write(\"amino-acid-charges = [0.000, 0.000, 1.000, 0.000, -1.000, 0.000, 0.000, -1.000,  0.000, 0.000, 1.000, 0.000, 0.000, 0.000, 0.000, 0.000, 0.000, 0.000, 0.000, 0.000, 0.000, 1.000, -1.000, 0.000, 0.000, 0.000, 0.000, 0.000, 0.000, 0.000, 1.000, 1.000, 0.000, -1.000 ]\\n\")\n",
    "        #f.write(\"amino-acid-radii = [0.271, 0.266, 0.346, 0.311, 0.311, 0.301, 0.324, 0.324, 0.310, 0.310, 0.324, 0.326, 0.339, 0.295, 0.284, 0.299, 0.366, 0.351, 0.297, 0.331, 0.331, 0.332, 0.317, 0.328, 0.339, 0.362, 0.362, 0.351, 0.388, 0.388, 0.270, 0.204, 0.270, 0.321 ]\\n\")\n",
    "        f.close()  "
   ]
  },
  {
   "cell_type": "code",
   "execution_count": 10,
   "id": "3d9ff4dd",
   "metadata": {},
   "outputs": [
    {
     "data": {
      "text/plain": [
       "['6.8_ag111.config', '7.3_ag111.config', '8.5_ag111.config']"
      ]
     },
     "execution_count": 10,
     "metadata": {},
     "output_type": "execute_result"
    }
   ],
   "source": [
    "configs"
   ]
  },
  {
   "cell_type": "code",
   "execution_count": 11,
   "id": "16538c5e",
   "metadata": {},
   "outputs": [],
   "source": [
    "with open(configLoc+\"run_ua.sh\",\"w\") as f:\n",
    "    f.write('#!/bin/sh \\n')\n",
    "    for config in configs:\n",
    "        #uacommand=\"./UnitedAtom --config-file={} 2>&1\".format(config)\n",
    "        uacommand=\"~/apps/unitedatom/UnitedAtom  --config-file=configs/{} 2>&1\".format(config)\n",
    "        jobId=config.strip(\".config\")\n",
    "        string=\"screen -a -S {} \\n {} \\n\".format(jobId, uacommand)\n",
    "        f.write(string)\n",
    "        f.write(\"\\n\")\n",
    "        f.write(\"\\n\")\n",
    "        f.write(\"\\n\")\n",
    "    f.close()        "
   ]
  },
  {
   "cell_type": "code",
   "execution_count": null,
   "id": "663f39e2",
   "metadata": {},
   "outputs": [],
   "source": []
  }
 ],
 "metadata": {
  "kernelspec": {
   "display_name": "Python 3 (ipykernel)",
   "language": "python",
   "name": "python3"
  },
  "language_info": {
   "codemirror_mode": {
    "name": "ipython",
    "version": 3
   },
   "file_extension": ".py",
   "mimetype": "text/x-python",
   "name": "python",
   "nbconvert_exporter": "python",
   "pygments_lexer": "ipython3",
   "version": "3.9.15"
  },
  "varInspector": {
   "cols": {
    "lenName": 16,
    "lenType": 16,
    "lenVar": 40
   },
   "kernels_config": {
    "python": {
     "delete_cmd_postfix": "",
     "delete_cmd_prefix": "del ",
     "library": "var_list.py",
     "varRefreshCmd": "print(var_dic_list())"
    },
    "r": {
     "delete_cmd_postfix": ") ",
     "delete_cmd_prefix": "rm(",
     "library": "var_list.r",
     "varRefreshCmd": "cat(var_dic_list()) "
    }
   },
   "types_to_exclude": [
    "module",
    "function",
    "builtin_function_or_method",
    "instance",
    "_Feature"
   ],
   "window_display": false
  }
 },
 "nbformat": 4,
 "nbformat_minor": 5
}
